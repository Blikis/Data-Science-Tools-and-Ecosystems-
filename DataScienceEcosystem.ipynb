{
 "cells": [
  {
   "cell_type": "markdown",
   "id": "22b99ccb",
   "metadata": {},
   "source": [
    "# Data Science Tools and Ecosystem"
   ]
  },
  {
   "cell_type": "markdown",
   "id": "c2eb79fc",
   "metadata": {},
   "source": [
    "In this notebook, Data Science Tools and Ecosystem are summarized."
   ]
  },
  {
   "cell_type": "markdown",
   "id": "ff41d6db",
   "metadata": {},
   "source": [
    "__Objectives__"
   ]
  },
  {
   "cell_type": "markdown",
   "id": "8f1edd08",
   "metadata": {},
   "source": [
    "- List popular languages for Data Science\n",
    "- List popular tools for Data Science\n",
    "- List common libraries for Data Science\n",
    "- Do simple arithimitic in python"
   ]
  },
  {
   "cell_type": "markdown",
   "id": "4944f0bd",
   "metadata": {},
   "source": [
    "Some of the most popular languages that Data Scientist  use are:\n",
    "   \n",
    "   1. Python\n",
    "   2. R\n",
    "   3. Java\n",
    "   3. Julia\n",
    "   4. Scala"
   ]
  },
  {
   "cell_type": "markdown",
   "id": "fc920cd1",
   "metadata": {},
   "source": [
    "Some of the most commoonly used libraries used by Data Scientist include:\n",
    "    \n",
    "    1. Pandas\n",
    "    2. NumPy\n",
    "    3. PyTourch\n",
    "    4. Matplotlib\n",
    "    5. TensoFlow\n",
    "    "
   ]
  },
  {
   "cell_type": "markdown",
   "id": "55ca87b7",
   "metadata": {},
   "source": [
    "\n",
    "|Data Science Tools|\n",
    "|-----------|\n",
    "|GitHub|\n",
    "|Jupyter Notebook|\n",
    "|IBM Watson|\n"
   ]
  },
  {
   "cell_type": "markdown",
   "id": "85e592f2",
   "metadata": {},
   "source": [
    "### Below are a few examples of evaluating arithmethic expressions in Python"
   ]
  },
  {
   "cell_type": "markdown",
   "id": "2813da1e",
   "metadata": {},
   "source": [
    "This a simple arithemitic to mutiply then add integers"
   ]
  },
  {
   "cell_type": "markdown",
   "id": "4b717065",
   "metadata": {},
   "source": []
  },
  {
   "cell_type": "code",
   "execution_count": 2,
   "id": "e31cd2ad",
   "metadata": {
    "scrolled": true
   },
   "outputs": [
    {
     "data": {
      "text/plain": [
       "17"
      ]
     },
     "execution_count": 2,
     "metadata": {},
     "output_type": "execute_result"
    }
   ],
   "source": [
    "(3*4)+5\n"
   ]
  },
  {
   "cell_type": "markdown",
   "id": "31c69903",
   "metadata": {},
   "source": [
    "This will convert 200 minutes to hours by dividing by 60"
   ]
  },
  {
   "cell_type": "code",
   "execution_count": 3,
   "id": "7948f196",
   "metadata": {},
   "outputs": [
    {
     "data": {
      "text/plain": [
       "3.3333333333333335"
      ]
     },
     "execution_count": 3,
     "metadata": {},
     "output_type": "execute_result"
    }
   ],
   "source": [
    "200/60"
   ]
  },
  {
   "cell_type": "markdown",
   "id": "656b68b2",
   "metadata": {},
   "source": [
    "## Author\n",
    "Alusine Sesay\n"
   ]
  }
 ],
 "metadata": {
  "kernelspec": {
   "display_name": "Python 3 (ipykernel)",
   "language": "python",
   "name": "python3"
  },
  "language_info": {
   "codemirror_mode": {
    "name": "ipython",
    "version": 3
   },
   "file_extension": ".py",
   "mimetype": "text/x-python",
   "name": "python",
   "nbconvert_exporter": "python",
   "pygments_lexer": "ipython3",
   "version": "3.11.5"
  }
 },
 "nbformat": 4,
 "nbformat_minor": 5
}
